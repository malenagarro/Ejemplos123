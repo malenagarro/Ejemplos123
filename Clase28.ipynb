{
  "metadata": {
    "language_info": {
      "codemirror_mode": {
        "name": "python",
        "version": 3
      },
      "file_extension": ".py",
      "mimetype": "text/x-python",
      "name": "python",
      "nbconvert_exporter": "python",
      "pygments_lexer": "ipython3",
      "version": "3.8"
    },
    "kernelspec": {
      "name": "python",
      "display_name": "Python (Pyodide)",
      "language": "python"
    }
  },
  "nbformat_minor": 4,
  "nbformat": 4,
  "cells": [
    {
      "cell_type": "markdown",
      "source": "# Joins (Compartir pandas cheat)",
      "metadata": {}
    },
    {
      "cell_type": "code",
      "source": "import pandas as pd",
      "metadata": {
        "trusted": true
      },
      "execution_count": 1,
      "outputs": []
    },
    {
      "cell_type": "code",
      "source": "# Crear primer dataframe\ndf1 = pd.DataFrame({'key': ['b', 'b', 'a', 'c', 'a', 'a', 'b'],\n 'first': range(7)})",
      "metadata": {
        "trusted": true
      },
      "execution_count": 3,
      "outputs": []
    },
    {
      "cell_type": "code",
      "source": "# Crear segundo dataframe\ndf2 = pd.DataFrame({'key': ['a', 'b', 'd'], 'second': range(3)})",
      "metadata": {
        "trusted": true
      },
      "execution_count": 4,
      "outputs": []
    },
    {
      "cell_type": "code",
      "source": "# Visualizar df1\ndf1",
      "metadata": {},
      "execution_count": null,
      "outputs": []
    },
    {
      "cell_type": "code",
      "source": "# Visualizar df2\ndf2",
      "metadata": {},
      "execution_count": null,
      "outputs": []
    },
    {
      "cell_type": "code",
      "source": "# Left join\npd.merge(left=df1,right=df2, on ='key',how='left')",
      "metadata": {},
      "execution_count": null,
      "outputs": []
    },
    {
      "cell_type": "code",
      "source": "# Inner join\npd.merge(df1,df2, on ='key',how= 'inner')",
      "metadata": {},
      "execution_count": null,
      "outputs": []
    },
    {
      "cell_type": "code",
      "source": "# Full outer join\npd.merge(df1,df2, on ='key',how= 'outer')",
      "metadata": {},
      "execution_count": null,
      "outputs": []
    },
    {
      "cell_type": "markdown",
      "source": "# Agregaciones, imputaciones, concatenación y descripciones",
      "metadata": {}
    },
    {
      "cell_type": "code",
      "source": "import pandas as pd",
      "metadata": {
        "trusted": true
      },
      "execution_count": 13,
      "outputs": []
    },
    {
      "cell_type": "code",
      "source": "tabla1=pd.read_excel('clase0.xlsx')\ntabla1",
      "metadata": {
        "trusted": true
      },
      "execution_count": null,
      "outputs": []
    },
    {
      "cell_type": "code",
      "source": "tabla2=pd.read_excel('clase1.xlsx')\ntabla2",
      "metadata": {},
      "execution_count": null,
      "outputs": []
    },
    {
      "cell_type": "code",
      "source": "# Concatenar las tablas e imputar valores ausentes\n\nconc=pd.concat([tabla1,tabla2],axis=0)\nconc",
      "metadata": {},
      "execution_count": null,
      "outputs": []
    },
    {
      "cell_type": "code",
      "source": "# Imputar valores\nconc_imputado=conc.fillna(0)\nconc_imputado",
      "metadata": {},
      "execution_count": null,
      "outputs": []
    },
    {
      "cell_type": "code",
      "source": "# Que pasa si se hace el dropna\nconc.dropna()",
      "metadata": {},
      "execution_count": null,
      "outputs": []
    },
    {
      "cell_type": "code",
      "source": "# Agregar con max\nconc.groupby(['key1'])['data'].max()",
      "metadata": {},
      "execution_count": null,
      "outputs": []
    },
    {
      "cell_type": "code",
      "source": "# Problema de imputar valores\n\nconc_imputado.groupby(['key1'])['data'].mean()\ntabla1.groupby(['key1'])['data'].mean()",
      "metadata": {},
      "execution_count": null,
      "outputs": []
    },
    {
      "cell_type": "code",
      "source": "# Agregacion con merge\n\ntabla=pd.merge(tabla1,tabla2,how='inner',on=['key1','key2'])\ntabla\n\nagregacion=tabla.groupby(['key1','key2']).sum(['data','event1','event2'])\nagregacion",
      "metadata": {},
      "execution_count": null,
      "outputs": []
    },
    {
      "cell_type": "code",
      "source": "agregacion.describe()",
      "metadata": {},
      "execution_count": null,
      "outputs": []
    },
    {
      "cell_type": "markdown",
      "source": "# Actividad en clase",
      "metadata": {}
    },
    {
      "cell_type": "markdown",
      "source": "### Actividad 1",
      "metadata": {}
    },
    {
      "cell_type": "code",
      "source": "import pandas as pd",
      "metadata": {
        "trusted": true
      },
      "execution_count": 25,
      "outputs": []
    },
    {
      "cell_type": "code",
      "source": "orders=pd.read_csv('orders.csv')\nemployees=pd.read_csv('employees.csv')\ncustomers=pd.read_csv('customers.csv')",
      "metadata": {
        "trusted": true
      },
      "execution_count": 26,
      "outputs": []
    },
    {
      "cell_type": "code",
      "source": "# Mas ha atendido\n\nmaximoAtenciones=pd.merge(orders,employees,on='EmployeeID',how='left')[['FirstName','LastName','OrderID']]\nmaximoAtenciones",
      "metadata": {
        "trusted": true
      },
      "execution_count": 34,
      "outputs": [
        {
          "execution_count": 34,
          "output_type": "execute_result",
          "data": {
            "text/plain": "     FirstName    LastName  OrderID\n0      Steven    Buchanan     10248\n1     Michael      Suyama     10249\n2    Margaret     Peacock     10250\n3       Janet   Leverling     10251\n4    Margaret     Peacock     10252\n..         ...         ...      ...\n191   Michael      Suyama     10439\n192  Margaret     Peacock     10440\n193     Janet   Leverling     10441\n194     Janet   Leverling     10442\n195     Laura    Callahan     10443\n\n[196 rows x 3 columns]",
            "text/html": "<div>\n<style scoped>\n    .dataframe tbody tr th:only-of-type {\n        vertical-align: middle;\n    }\n\n    .dataframe tbody tr th {\n        vertical-align: top;\n    }\n\n    .dataframe thead th {\n        text-align: right;\n    }\n</style>\n<table border=\"1\" class=\"dataframe\">\n  <thead>\n    <tr style=\"text-align: right;\">\n      <th></th>\n      <th>FirstName</th>\n      <th>LastName</th>\n      <th>OrderID</th>\n    </tr>\n  </thead>\n  <tbody>\n    <tr>\n      <th>0</th>\n      <td>Steven</td>\n      <td>Buchanan</td>\n      <td>10248</td>\n    </tr>\n    <tr>\n      <th>1</th>\n      <td>Michael</td>\n      <td>Suyama</td>\n      <td>10249</td>\n    </tr>\n    <tr>\n      <th>2</th>\n      <td>Margaret</td>\n      <td>Peacock</td>\n      <td>10250</td>\n    </tr>\n    <tr>\n      <th>3</th>\n      <td>Janet</td>\n      <td>Leverling</td>\n      <td>10251</td>\n    </tr>\n    <tr>\n      <th>4</th>\n      <td>Margaret</td>\n      <td>Peacock</td>\n      <td>10252</td>\n    </tr>\n    <tr>\n      <th>...</th>\n      <td>...</td>\n      <td>...</td>\n      <td>...</td>\n    </tr>\n    <tr>\n      <th>191</th>\n      <td>Michael</td>\n      <td>Suyama</td>\n      <td>10439</td>\n    </tr>\n    <tr>\n      <th>192</th>\n      <td>Margaret</td>\n      <td>Peacock</td>\n      <td>10440</td>\n    </tr>\n    <tr>\n      <th>193</th>\n      <td>Janet</td>\n      <td>Leverling</td>\n      <td>10441</td>\n    </tr>\n    <tr>\n      <th>194</th>\n      <td>Janet</td>\n      <td>Leverling</td>\n      <td>10442</td>\n    </tr>\n    <tr>\n      <th>195</th>\n      <td>Laura</td>\n      <td>Callahan</td>\n      <td>10443</td>\n    </tr>\n  </tbody>\n</table>\n<p>196 rows × 3 columns</p>\n</div>"
          },
          "metadata": {}
        }
      ]
    },
    {
      "cell_type": "code",
      "source": "# Groupby\nmaximoAtenciones2=maximoAtenciones.groupby(['FirstName','LastName']).count()\nmaximoAtenciones2",
      "metadata": {
        "trusted": true
      },
      "execution_count": 51,
      "outputs": [
        {
          "execution_count": 51,
          "output_type": "execute_result",
          "data": {
            "text/plain": "                      OrderID\nFirstName LastName           \nAndrew    Fuller           20\nAnne      Dodsworth         6\nJanet     Leverling        31\nLaura     Callahan         27\nMargaret  Peacock          40\nMichael   Suyama           18\nNancy     Davolio          29\nRobert    King             14\nSteven    Buchanan         11",
            "text/html": "<div>\n<style scoped>\n    .dataframe tbody tr th:only-of-type {\n        vertical-align: middle;\n    }\n\n    .dataframe tbody tr th {\n        vertical-align: top;\n    }\n\n    .dataframe thead th {\n        text-align: right;\n    }\n</style>\n<table border=\"1\" class=\"dataframe\">\n  <thead>\n    <tr style=\"text-align: right;\">\n      <th></th>\n      <th></th>\n      <th>OrderID</th>\n    </tr>\n    <tr>\n      <th>FirstName</th>\n      <th>LastName</th>\n      <th></th>\n    </tr>\n  </thead>\n  <tbody>\n    <tr>\n      <th>Andrew</th>\n      <th>Fuller</th>\n      <td>20</td>\n    </tr>\n    <tr>\n      <th>Anne</th>\n      <th>Dodsworth</th>\n      <td>6</td>\n    </tr>\n    <tr>\n      <th>Janet</th>\n      <th>Leverling</th>\n      <td>31</td>\n    </tr>\n    <tr>\n      <th>Laura</th>\n      <th>Callahan</th>\n      <td>27</td>\n    </tr>\n    <tr>\n      <th>Margaret</th>\n      <th>Peacock</th>\n      <td>40</td>\n    </tr>\n    <tr>\n      <th>Michael</th>\n      <th>Suyama</th>\n      <td>18</td>\n    </tr>\n    <tr>\n      <th>Nancy</th>\n      <th>Davolio</th>\n      <td>29</td>\n    </tr>\n    <tr>\n      <th>Robert</th>\n      <th>King</th>\n      <td>14</td>\n    </tr>\n    <tr>\n      <th>Steven</th>\n      <th>Buchanan</th>\n      <td>11</td>\n    </tr>\n  </tbody>\n</table>\n</div>"
          },
          "metadata": {}
        }
      ]
    },
    {
      "cell_type": "code",
      "source": "# Orden y seleccion\nmaximoAtenciones2.sort_values(['OrderID'],ascending=False).head(1)",
      "metadata": {
        "trusted": true
      },
      "execution_count": 52,
      "outputs": [
        {
          "execution_count": 52,
          "output_type": "execute_result",
          "data": {
            "text/plain": "                    OrderID\nFirstName LastName         \nMargaret  Peacock        40",
            "text/html": "<div>\n<style scoped>\n    .dataframe tbody tr th:only-of-type {\n        vertical-align: middle;\n    }\n\n    .dataframe tbody tr th {\n        vertical-align: top;\n    }\n\n    .dataframe thead th {\n        text-align: right;\n    }\n</style>\n<table border=\"1\" class=\"dataframe\">\n  <thead>\n    <tr style=\"text-align: right;\">\n      <th></th>\n      <th></th>\n      <th>OrderID</th>\n    </tr>\n    <tr>\n      <th>FirstName</th>\n      <th>LastName</th>\n      <th></th>\n    </tr>\n  </thead>\n  <tbody>\n    <tr>\n      <th>Margaret</th>\n      <th>Peacock</th>\n      <td>40</td>\n    </tr>\n  </tbody>\n</table>\n</div>"
          },
          "metadata": {}
        }
      ]
    },
    {
      "cell_type": "markdown",
      "source": "\nEquivalente SQL\nSELECT O.OrderID, E.FirstName, E.LastName, count(OrderID) as Conteo FROM Orders as O\nLEFT JOIN Employees as E ON O.EmployeeID=E.EmployeeID\nGROUP BY E.FirstName, E.LastName\nORDER BY Conteo DESC\nLIMIT 1;\n",
      "metadata": {}
    },
    {
      "cell_type": "markdown",
      "source": "### Actividad 2",
      "metadata": {}
    },
    {
      "cell_type": "code",
      "source": "# Ordenes por cliente\n\nOrdenesPorCliente=orders[['CustomerID','OrderID']].groupby(['CustomerID']).count()\nOrdenesPorCliente=OrdenesPorCliente.merge(customers[['CustomerID','CustomerName']],how='left',on='CustomerID')\nOrdenesPorCliente=OrdenesPorCliente.rename(columns={'OrderID':'Conteo'})[['CustomerName','Conteo']]\nOrdenesPorCliente",
      "metadata": {
        "trusted": true
      },
      "execution_count": 72,
      "outputs": [
        {
          "execution_count": 72,
          "output_type": "execute_result",
          "data": {
            "text/plain": "                           CustomerName  Conteo\n0   Ana Trujillo Emparedados y helados        1\n1              Antonio Moreno Taquería        1\n2                      Around the Horn        2\n3                   Berglunds snabbköp        3\n4                 Blondel père et fils        4\n..                                  ...     ...\n69                      Wartian Herkku        7\n70              Wellington Importadora        2\n71                White Clover Markets        2\n72                         Wilman Kala        1\n73                              Wolski        1\n\n[74 rows x 2 columns]",
            "text/html": "<div>\n<style scoped>\n    .dataframe tbody tr th:only-of-type {\n        vertical-align: middle;\n    }\n\n    .dataframe tbody tr th {\n        vertical-align: top;\n    }\n\n    .dataframe thead th {\n        text-align: right;\n    }\n</style>\n<table border=\"1\" class=\"dataframe\">\n  <thead>\n    <tr style=\"text-align: right;\">\n      <th></th>\n      <th>CustomerName</th>\n      <th>Conteo</th>\n    </tr>\n  </thead>\n  <tbody>\n    <tr>\n      <th>0</th>\n      <td>Ana Trujillo Emparedados y helados</td>\n      <td>1</td>\n    </tr>\n    <tr>\n      <th>1</th>\n      <td>Antonio Moreno Taquería</td>\n      <td>1</td>\n    </tr>\n    <tr>\n      <th>2</th>\n      <td>Around the Horn</td>\n      <td>2</td>\n    </tr>\n    <tr>\n      <th>3</th>\n      <td>Berglunds snabbköp</td>\n      <td>3</td>\n    </tr>\n    <tr>\n      <th>4</th>\n      <td>Blondel père et fils</td>\n      <td>4</td>\n    </tr>\n    <tr>\n      <th>...</th>\n      <td>...</td>\n      <td>...</td>\n    </tr>\n    <tr>\n      <th>69</th>\n      <td>Wartian Herkku</td>\n      <td>7</td>\n    </tr>\n    <tr>\n      <th>70</th>\n      <td>Wellington Importadora</td>\n      <td>2</td>\n    </tr>\n    <tr>\n      <th>71</th>\n      <td>White Clover Markets</td>\n      <td>2</td>\n    </tr>\n    <tr>\n      <th>72</th>\n      <td>Wilman Kala</td>\n      <td>1</td>\n    </tr>\n    <tr>\n      <th>73</th>\n      <td>Wolski</td>\n      <td>1</td>\n    </tr>\n  </tbody>\n</table>\n<p>74 rows × 2 columns</p>\n</div>"
          },
          "metadata": {}
        }
      ]
    }
  ]
}
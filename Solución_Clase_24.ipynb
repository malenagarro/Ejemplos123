{
  "nbformat": 4,
  "nbformat_minor": 0,
  "metadata": {
    "colab": {
      "provenance": []
    },
    "kernelspec": {
      "name": "python3",
      "display_name": "Python 3"
    },
    "language_info": {
      "name": "python"
    }
  },
  "cells": [
    {
      "cell_type": "code",
      "execution_count": 1,
      "metadata": {
        "id": "nnqQJxJdFK9X"
      },
      "outputs": [],
      "source": [
        "### Funcion para crear conexion\n",
        "\n",
        "import sqlite3\n",
        "from sqlite3 import Error\n",
        "\n",
        "def create_connection(path):\n",
        "  connection=None\n",
        "  try:\n",
        "    connection=sqlite3.connect(path)\n",
        "    print(\"Conexion fue exitosa\")\n",
        "  except Error as e:\n",
        "    print(f\"El error fue: {e}\")\n",
        "  return connection"
      ]
    },
    {
      "cell_type": "code",
      "source": [
        "connection = create_connection(\"rodri.sqlite3\")\n",
        "\n",
        "### INSERT INTO TABLE ... VALUES (...,...,...,...)"
      ],
      "metadata": {
        "colab": {
          "base_uri": "https://localhost:8080/"
        },
        "id": "8ldVsrQeKNDr",
        "outputId": "3ce902ea-efc1-4b62-f073-1cd22fb0dd22"
      },
      "execution_count": 2,
      "outputs": [
        {
          "output_type": "stream",
          "name": "stdout",
          "text": [
            "Conexion fue exitosa\n"
          ]
        }
      ]
    },
    {
      "cell_type": "code",
      "source": [
        "# Instruccion para ejecutar queries -para DDL-\n",
        "\n",
        "def execute_query(connection,query):\n",
        "  cursor = connection.cursor()\n",
        "  try:\n",
        "    cursor.execute(query)\n",
        "    connection.commit()\n",
        "    print(\"Query ejecutado exitosamente\")\n",
        "  except Error as e:\n",
        "    print(f\"El error fue: {e}\")"
      ],
      "metadata": {
        "id": "Xz-LzB6jKWXf"
      },
      "execution_count": 3,
      "outputs": []
    },
    {
      "cell_type": "code",
      "source": [
        "crear_tabla_coches = \"\"\"\n",
        "CREATE TABLE IF NOT EXISTS Coches (\n",
        "  ID integer PRIMARY KEY AUTOINCREMENT,\n",
        "  Version TEXT NOT NULL,\n",
        "  Marca TEXT NOT NULL,\n",
        "  Color TEXT NOT NULL,\n",
        "  Tipo TEXT NOT NULL\n",
        ");\n",
        "\"\"\"\n",
        "\n",
        "crear_tabla_personas=\"\"\"\n",
        "CREATE TABLE IF NOT EXISTS Personas (\n",
        "  ID integer PRIMARY KEY AUTOINCREMENT,\n",
        "  Nombre TEXT NOT NULL,\n",
        "  Edad integer NOT NULL\n",
        ");\n",
        "\"\"\"\n",
        "\n",
        "crear_tabla_ventas = \"\"\"\n",
        "CREATE TABLE IF NOT EXISTS Ventas (\n",
        "  ID integer PRIMARY KEY AUTOINCREMENT,\n",
        "  ID_Persona INTEGER NOT NULL,\n",
        "  ID_Coche INTEGER NOT NULL,\n",
        "  Venta INTEGER,\n",
        "  FOREIGN KEY (ID_Persona) REFERENCES Personas (ID) FOREIGN KEY (ID_Coche) REFERENCES Coches (ID)\n",
        ")\n",
        "\"\"\""
      ],
      "metadata": {
        "id": "FbYSNSuaLPVv"
      },
      "execution_count": 7,
      "outputs": []
    },
    {
      "cell_type": "code",
      "source": [
        "### Ejecuciones de los queries\n",
        "\n",
        "execute_query(connection,crear_tabla_coches)\n",
        "execute_query(connection,crear_tabla_personas)\n",
        "execute_query(connection,crear_tabla_ventas)"
      ],
      "metadata": {
        "colab": {
          "base_uri": "https://localhost:8080/"
        },
        "id": "bC-r4lifL0P9",
        "outputId": "45eff422-6304-4ff2-86a1-ce183fd1c4ac"
      },
      "execution_count": 8,
      "outputs": [
        {
          "output_type": "stream",
          "name": "stdout",
          "text": [
            "Query ejecutado exitosamente\n",
            "Query ejecutado exitosamente\n",
            "Query ejecutado exitosamente\n"
          ]
        }
      ]
    },
    {
      "cell_type": "code",
      "source": [
        "## Poblar las tablas\n",
        "\n",
        "poblar_coches = \"\"\"\n",
        "INSERT INTO Coches (Version, Tipo, Marca, Color)\n",
        "VALUES \n",
        "('A','NISSAN', 'Sedan', 'Rojo'),\n",
        "('B','CHEV', 'Sedan', 'Azul'),\n",
        "('C','AUDI', 'Hatch', 'Blanco'),\n",
        "('D','BMW', 'Hatch', 'Amarillo'),\n",
        "('E','AUDI', 'Coupe', 'Negro');\n",
        "\"\"\"\n",
        "\n",
        "poblar_personas = \"\"\"\n",
        "INSERT INTO Personas (Nombre, Edad)\n",
        "VALUES\n",
        "(\"Rodrigo\",26),\n",
        "(\"Alejandro\",30),\n",
        "(\"Nancy\",28);\n",
        "\"\"\"\n",
        "poblar_ventas=\"\"\"\n",
        "INSERT INTO Ventas (ID_Persona, ID_Coche, Venta)\n",
        "VALUES\n",
        "(1,1,1),\n",
        "(1,2,1),\n",
        "(1,3,1),\n",
        "(3,2,1),\n",
        "(5,3,1);\n",
        "\"\"\"\n",
        "\n",
        "pd.read_csv"
      ],
      "metadata": {
        "id": "LaWdLXVtPIif"
      },
      "execution_count": 14,
      "outputs": []
    },
    {
      "cell_type": "code",
      "source": [
        "### Ejecuciones de los queries\n",
        "\n",
        "execute_query(connection,poblar_coches)\n",
        "execute_query(connection,poblar_personas)\n",
        "execute_query(connection,poblar_ventas)"
      ],
      "metadata": {
        "colab": {
          "base_uri": "https://localhost:8080/"
        },
        "id": "0OSeIbzgPpv3",
        "outputId": "a36831fe-22a3-4970-e98f-7c31276332d3"
      },
      "execution_count": 15,
      "outputs": [
        {
          "output_type": "stream",
          "name": "stdout",
          "text": [
            "Query ejecutado exitosamente\n",
            "Query ejecutado exitosamente\n",
            "Query ejecutado exitosamente\n"
          ]
        }
      ]
    },
    {
      "cell_type": "code",
      "source": [
        "## Funcion para hacer DML (SELECT) - Funcion para hacer lecturas\n",
        "\n",
        "def execute_read_query(connection, query):\n",
        "  cursor = connection.cursor()\n",
        "  result = None\n",
        "  try:\n",
        "    cursor.execute(query)\n",
        "    result = cursor.fetchall()\n",
        "    print(\"Resultado del query exitoso\")\n",
        "    return result\n",
        "  except Error as e:\n",
        "    print(f'El error fue {e}')"
      ],
      "metadata": {
        "id": "iGiymP9gRs7S"
      },
      "execution_count": 16,
      "outputs": []
    },
    {
      "cell_type": "code",
      "source": [
        "### Ejecutar un query que nos devuelva los datos que existan referenciados entre \n",
        "### las tres tablas, es decir, todo aquello que vive a la vez en las tres.\n",
        "\n",
        "doble_join = \"\"\"\n",
        "SELECT v.ID, v.ID_Persona, v.ID_Coche, c.Version, c.Marca, c.Color, c.Tipo, p.Nombre, p.Edad, v.Venta\n",
        "FROM ventas as v\n",
        "      INNER JOIN coches as c ON v.ID_Coche = c.ID\n",
        "      INNER JOIN personas as p ON v.ID_Persona = p.ID\n",
        "\"\"\"\n",
        "\n",
        "todo_entre_tablas=execute_read_query(connection,doble_join)\n",
        "todo_entre_tablas ## Una desnormalizacion de las tres tablas para formar una nueva tabla"
      ],
      "metadata": {
        "colab": {
          "base_uri": "https://localhost:8080/"
        },
        "id": "56zj_VZaT7nW",
        "outputId": "8ccc913e-5d21-4799-d124-064626c03247"
      },
      "execution_count": 17,
      "outputs": [
        {
          "output_type": "stream",
          "name": "stdout",
          "text": [
            "Resultado del query exitoso\n"
          ]
        },
        {
          "output_type": "execute_result",
          "data": {
            "text/plain": [
              "[(1, 1, 1, 'A', 'Sedan', 'Rojo', 'NISSAN', 'Rodrigo', 26, 1),\n",
              " (2, 1, 2, 'B', 'Sedan', 'Azul', 'CHEV', 'Rodrigo', 26, 1),\n",
              " (3, 1, 3, 'C', 'Hatch', 'Blanco', 'AUDI', 'Rodrigo', 26, 1),\n",
              " (4, 3, 2, 'B', 'Sedan', 'Azul', 'CHEV', 'Nancy', 28, 1)]"
            ]
          },
          "metadata": {},
          "execution_count": 17
        }
      ]
    },
    {
      "cell_type": "code",
      "source": [
        "import pandas as pd\n",
        "pd.DataFrame(todo_entre_tablas,columns=['v.ID', 'v.ID_Persona', 'v.ID_Coche', 'c.Version', 'c.Marca',\n",
        "                                        'c.Color', 'c.Tipo', 'p.Nombre', 'p.Edad', 'v.Venta'])"
      ],
      "metadata": {
        "colab": {
          "base_uri": "https://localhost:8080/",
          "height": 175
        },
        "id": "haz1-uxlWOnG",
        "outputId": "af7e7616-fc87-49c9-d668-d00df10292ba"
      },
      "execution_count": 18,
      "outputs": [
        {
          "output_type": "execute_result",
          "data": {
            "text/plain": [
              "   v.ID  v.ID_Persona  v.ID_Coche c.Version c.Marca c.Color  c.Tipo p.Nombre  \\\n",
              "0     1             1           1         A   Sedan    Rojo  NISSAN  Rodrigo   \n",
              "1     2             1           2         B   Sedan    Azul    CHEV  Rodrigo   \n",
              "2     3             1           3         C   Hatch  Blanco    AUDI  Rodrigo   \n",
              "3     4             3           2         B   Sedan    Azul    CHEV    Nancy   \n",
              "\n",
              "   p.Edad  v.Venta  \n",
              "0      26        1  \n",
              "1      26        1  \n",
              "2      26        1  \n",
              "3      28        1  "
            ],
            "text/html": [
              "\n",
              "  <div id=\"df-878e9255-d23f-4588-8c21-5d279e44b24e\">\n",
              "    <div class=\"colab-df-container\">\n",
              "      <div>\n",
              "<style scoped>\n",
              "    .dataframe tbody tr th:only-of-type {\n",
              "        vertical-align: middle;\n",
              "    }\n",
              "\n",
              "    .dataframe tbody tr th {\n",
              "        vertical-align: top;\n",
              "    }\n",
              "\n",
              "    .dataframe thead th {\n",
              "        text-align: right;\n",
              "    }\n",
              "</style>\n",
              "<table border=\"1\" class=\"dataframe\">\n",
              "  <thead>\n",
              "    <tr style=\"text-align: right;\">\n",
              "      <th></th>\n",
              "      <th>v.ID</th>\n",
              "      <th>v.ID_Persona</th>\n",
              "      <th>v.ID_Coche</th>\n",
              "      <th>c.Version</th>\n",
              "      <th>c.Marca</th>\n",
              "      <th>c.Color</th>\n",
              "      <th>c.Tipo</th>\n",
              "      <th>p.Nombre</th>\n",
              "      <th>p.Edad</th>\n",
              "      <th>v.Venta</th>\n",
              "    </tr>\n",
              "  </thead>\n",
              "  <tbody>\n",
              "    <tr>\n",
              "      <th>0</th>\n",
              "      <td>1</td>\n",
              "      <td>1</td>\n",
              "      <td>1</td>\n",
              "      <td>A</td>\n",
              "      <td>Sedan</td>\n",
              "      <td>Rojo</td>\n",
              "      <td>NISSAN</td>\n",
              "      <td>Rodrigo</td>\n",
              "      <td>26</td>\n",
              "      <td>1</td>\n",
              "    </tr>\n",
              "    <tr>\n",
              "      <th>1</th>\n",
              "      <td>2</td>\n",
              "      <td>1</td>\n",
              "      <td>2</td>\n",
              "      <td>B</td>\n",
              "      <td>Sedan</td>\n",
              "      <td>Azul</td>\n",
              "      <td>CHEV</td>\n",
              "      <td>Rodrigo</td>\n",
              "      <td>26</td>\n",
              "      <td>1</td>\n",
              "    </tr>\n",
              "    <tr>\n",
              "      <th>2</th>\n",
              "      <td>3</td>\n",
              "      <td>1</td>\n",
              "      <td>3</td>\n",
              "      <td>C</td>\n",
              "      <td>Hatch</td>\n",
              "      <td>Blanco</td>\n",
              "      <td>AUDI</td>\n",
              "      <td>Rodrigo</td>\n",
              "      <td>26</td>\n",
              "      <td>1</td>\n",
              "    </tr>\n",
              "    <tr>\n",
              "      <th>3</th>\n",
              "      <td>4</td>\n",
              "      <td>3</td>\n",
              "      <td>2</td>\n",
              "      <td>B</td>\n",
              "      <td>Sedan</td>\n",
              "      <td>Azul</td>\n",
              "      <td>CHEV</td>\n",
              "      <td>Nancy</td>\n",
              "      <td>28</td>\n",
              "      <td>1</td>\n",
              "    </tr>\n",
              "  </tbody>\n",
              "</table>\n",
              "</div>\n",
              "      <button class=\"colab-df-convert\" onclick=\"convertToInteractive('df-878e9255-d23f-4588-8c21-5d279e44b24e')\"\n",
              "              title=\"Convert this dataframe to an interactive table.\"\n",
              "              style=\"display:none;\">\n",
              "        \n",
              "  <svg xmlns=\"http://www.w3.org/2000/svg\" height=\"24px\"viewBox=\"0 0 24 24\"\n",
              "       width=\"24px\">\n",
              "    <path d=\"M0 0h24v24H0V0z\" fill=\"none\"/>\n",
              "    <path d=\"M18.56 5.44l.94 2.06.94-2.06 2.06-.94-2.06-.94-.94-2.06-.94 2.06-2.06.94zm-11 1L8.5 8.5l.94-2.06 2.06-.94-2.06-.94L8.5 2.5l-.94 2.06-2.06.94zm10 10l.94 2.06.94-2.06 2.06-.94-2.06-.94-.94-2.06-.94 2.06-2.06.94z\"/><path d=\"M17.41 7.96l-1.37-1.37c-.4-.4-.92-.59-1.43-.59-.52 0-1.04.2-1.43.59L10.3 9.45l-7.72 7.72c-.78.78-.78 2.05 0 2.83L4 21.41c.39.39.9.59 1.41.59.51 0 1.02-.2 1.41-.59l7.78-7.78 2.81-2.81c.8-.78.8-2.07 0-2.86zM5.41 20L4 18.59l7.72-7.72 1.47 1.35L5.41 20z\"/>\n",
              "  </svg>\n",
              "      </button>\n",
              "      \n",
              "  <style>\n",
              "    .colab-df-container {\n",
              "      display:flex;\n",
              "      flex-wrap:wrap;\n",
              "      gap: 12px;\n",
              "    }\n",
              "\n",
              "    .colab-df-convert {\n",
              "      background-color: #E8F0FE;\n",
              "      border: none;\n",
              "      border-radius: 50%;\n",
              "      cursor: pointer;\n",
              "      display: none;\n",
              "      fill: #1967D2;\n",
              "      height: 32px;\n",
              "      padding: 0 0 0 0;\n",
              "      width: 32px;\n",
              "    }\n",
              "\n",
              "    .colab-df-convert:hover {\n",
              "      background-color: #E2EBFA;\n",
              "      box-shadow: 0px 1px 2px rgba(60, 64, 67, 0.3), 0px 1px 3px 1px rgba(60, 64, 67, 0.15);\n",
              "      fill: #174EA6;\n",
              "    }\n",
              "\n",
              "    [theme=dark] .colab-df-convert {\n",
              "      background-color: #3B4455;\n",
              "      fill: #D2E3FC;\n",
              "    }\n",
              "\n",
              "    [theme=dark] .colab-df-convert:hover {\n",
              "      background-color: #434B5C;\n",
              "      box-shadow: 0px 1px 3px 1px rgba(0, 0, 0, 0.15);\n",
              "      filter: drop-shadow(0px 1px 2px rgba(0, 0, 0, 0.3));\n",
              "      fill: #FFFFFF;\n",
              "    }\n",
              "  </style>\n",
              "\n",
              "      <script>\n",
              "        const buttonEl =\n",
              "          document.querySelector('#df-878e9255-d23f-4588-8c21-5d279e44b24e button.colab-df-convert');\n",
              "        buttonEl.style.display =\n",
              "          google.colab.kernel.accessAllowed ? 'block' : 'none';\n",
              "\n",
              "        async function convertToInteractive(key) {\n",
              "          const element = document.querySelector('#df-878e9255-d23f-4588-8c21-5d279e44b24e');\n",
              "          const dataTable =\n",
              "            await google.colab.kernel.invokeFunction('convertToInteractive',\n",
              "                                                     [key], {});\n",
              "          if (!dataTable) return;\n",
              "\n",
              "          const docLinkHtml = 'Like what you see? Visit the ' +\n",
              "            '<a target=\"_blank\" href=https://colab.research.google.com/notebooks/data_table.ipynb>data table notebook</a>'\n",
              "            + ' to learn more about interactive tables.';\n",
              "          element.innerHTML = '';\n",
              "          dataTable['output_type'] = 'display_data';\n",
              "          await google.colab.output.renderOutput(dataTable, element);\n",
              "          const docLink = document.createElement('div');\n",
              "          docLink.innerHTML = docLinkHtml;\n",
              "          element.appendChild(docLink);\n",
              "        }\n",
              "      </script>\n",
              "    </div>\n",
              "  </div>\n",
              "  "
            ]
          },
          "metadata": {},
          "execution_count": 18
        }
      ]
    }
  ]
}